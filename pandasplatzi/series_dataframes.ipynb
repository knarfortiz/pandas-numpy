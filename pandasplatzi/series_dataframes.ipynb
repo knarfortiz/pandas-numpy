{
 "cells": [
  {
   "cell_type": "code",
   "execution_count": 2,
   "metadata": {
    "collapsed": true,
    "ExecuteTime": {
     "start_time": "2023-04-26T22:01:50.169498Z",
     "end_time": "2023-04-26T22:01:50.738118Z"
    }
   },
   "outputs": [],
   "source": [
    "import pandas as pd"
   ]
  },
  {
   "cell_type": "code",
   "execution_count": 3,
   "outputs": [
    {
     "data": {
      "text/plain": "1      Navas\n7     Mbappe\n10    Neimar\n30     Messi\ndtype: object"
     },
     "execution_count": 3,
     "metadata": {},
     "output_type": "execute_result"
    }
   ],
   "source": [
    "psg_players = pd.Series(['Navas', 'Mbappe', 'Neimar', 'Messi'],\n",
    "          index=[1,7,10,30])\n",
    "psg_players"
   ],
   "metadata": {
    "collapsed": false,
    "ExecuteTime": {
     "start_time": "2023-04-26T22:01:51.588158Z",
     "end_time": "2023-04-26T22:01:51.601955Z"
    }
   }
  },
  {
   "cell_type": "code",
   "execution_count": 4,
   "outputs": [
    {
     "data": {
      "text/plain": "1      Navas\n7     Mbappe\n10    Neimar\n30     Messi\ndtype: object"
     },
     "execution_count": 4,
     "metadata": {},
     "output_type": "execute_result"
    }
   ],
   "source": [
    "dict = {1: 'Navas', 7: 'Mbappe', 10: 'Neimar', 30: 'Messi'}\n",
    "pd.Series(dict)\n"
   ],
   "metadata": {
    "collapsed": false,
    "ExecuteTime": {
     "start_time": "2023-04-26T22:01:53.209533Z",
     "end_time": "2023-04-26T22:01:53.263227Z"
    }
   }
  },
  {
   "cell_type": "code",
   "execution_count": 8,
   "outputs": [
    {
     "data": {
      "text/plain": "'Mbappe'"
     },
     "execution_count": 8,
     "metadata": {},
     "output_type": "execute_result"
    }
   ],
   "source": [
    "psg_players[7]"
   ],
   "metadata": {
    "collapsed": false,
    "ExecuteTime": {
     "start_time": "2023-04-26T22:04:07.037856Z",
     "end_time": "2023-04-26T22:04:07.056380Z"
    }
   }
  },
  {
   "cell_type": "code",
   "execution_count": 13,
   "outputs": [
    {
     "data": {
      "text/plain": "   Jugador  Altura  Goles\n1    Navas   183.0    200\n7   Mbappe   170.0    200\n10  Neimar   170.0    200\n30   Messi   160.0    200",
      "text/html": "<div>\n<style scoped>\n    .dataframe tbody tr th:only-of-type {\n        vertical-align: middle;\n    }\n\n    .dataframe tbody tr th {\n        vertical-align: top;\n    }\n\n    .dataframe thead th {\n        text-align: right;\n    }\n</style>\n<table border=\"1\" class=\"dataframe\">\n  <thead>\n    <tr style=\"text-align: right;\">\n      <th></th>\n      <th>Jugador</th>\n      <th>Altura</th>\n      <th>Goles</th>\n    </tr>\n  </thead>\n  <tbody>\n    <tr>\n      <th>1</th>\n      <td>Navas</td>\n      <td>183.0</td>\n      <td>200</td>\n    </tr>\n    <tr>\n      <th>7</th>\n      <td>Mbappe</td>\n      <td>170.0</td>\n      <td>200</td>\n    </tr>\n    <tr>\n      <th>10</th>\n      <td>Neimar</td>\n      <td>170.0</td>\n      <td>200</td>\n    </tr>\n    <tr>\n      <th>30</th>\n      <td>Messi</td>\n      <td>160.0</td>\n      <td>200</td>\n    </tr>\n  </tbody>\n</table>\n</div>"
     },
     "execution_count": 13,
     "metadata": {},
     "output_type": "execute_result"
    }
   ],
   "source": [
    "dict = {'Jugador': ['Navas', 'Mbappe', 'Neimar', 'Messi'],\n",
    "        'Altura': [183.0, 170.0, 170.0, 160.0],\n",
    "        'Goles': [200,200,200,200]}\n",
    "df_players = pd.DataFrame(dict, index=[1,7,10,30])\n",
    "df_players"
   ],
   "metadata": {
    "collapsed": false,
    "ExecuteTime": {
     "start_time": "2023-04-26T22:08:26.454109Z",
     "end_time": "2023-04-26T22:08:26.462636Z"
    }
   }
  },
  {
   "cell_type": "code",
   "execution_count": 14,
   "outputs": [
    {
     "data": {
      "text/plain": "Index(['Jugador', 'Altura', 'Goles'], dtype='object')"
     },
     "execution_count": 14,
     "metadata": {},
     "output_type": "execute_result"
    }
   ],
   "source": [
    "df_players.columns"
   ],
   "metadata": {
    "collapsed": false,
    "ExecuteTime": {
     "start_time": "2023-04-26T22:08:42.827580Z",
     "end_time": "2023-04-26T22:08:42.840336Z"
    }
   }
  },
  {
   "cell_type": "code",
   "execution_count": 15,
   "outputs": [
    {
     "data": {
      "text/plain": "Index([1, 7, 10, 30], dtype='int64')"
     },
     "execution_count": 15,
     "metadata": {},
     "output_type": "execute_result"
    }
   ],
   "source": [
    "df_players.index"
   ],
   "metadata": {
    "collapsed": false,
    "ExecuteTime": {
     "start_time": "2023-04-26T22:08:52.216128Z",
     "end_time": "2023-04-26T22:08:52.274565Z"
    }
   }
  },
  {
   "cell_type": "code",
   "execution_count": null,
   "outputs": [],
   "source": [],
   "metadata": {
    "collapsed": false
   }
  }
 ],
 "metadata": {
  "kernelspec": {
   "display_name": "Python 3",
   "language": "python",
   "name": "python3"
  },
  "language_info": {
   "codemirror_mode": {
    "name": "ipython",
    "version": 2
   },
   "file_extension": ".py",
   "mimetype": "text/x-python",
   "name": "python",
   "nbconvert_exporter": "python",
   "pygments_lexer": "ipython2",
   "version": "2.7.6"
  }
 },
 "nbformat": 4,
 "nbformat_minor": 0
}
